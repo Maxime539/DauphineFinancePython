{
  "cells": [
    {
      "cell_type": "markdown",
      "source": [
        "# Assignment\n",
        "\n"
      ],
      "metadata": {
        "id": "PeJqhzg8SNJa"
      }
    },
    {
      "cell_type": "markdown",
      "source": [
        "## Compute by using loops and numpy submatrices the determinant of any square Matrix $X$\n",
        "\n"
      ],
      "metadata": {
        "id": "bNcGIBIsSNJd"
      }
    },
    {
      "cell_type": "markdown",
      "source": [
        "$\n",
        "X =\\left[\\begin{array}{cccc}\n",
        " x_{11} &  x_{12} & \\cdots &  x_{1n} \\\\\n",
        " x_{12} &  x_{22} & \\cdots &  x_{2n} \\\\\n",
        "\\vdots & \\vdots & \\ddots & \\vdots \\\\\n",
        " x_{n1} &  x_{n2} & \\cdots &  x_{nn}\n",
        "\\end{array}\\right]\n",
        "$"
      ],
      "metadata": {
        "id": "OeU8IAB0SNJd"
      }
    },
    {
      "cell_type": "markdown",
      "source": [
        "If $X$ is a 2 by 2 matrix\n",
        "$\n",
        "det(X) = \\left|\\begin{array}{cc}\n",
        " a &  b  \\\\\n",
        " c &  d  \\\\\n",
        "\\end{array}\\right| = ad-bc\n",
        "$\n"
      ],
      "metadata": {
        "id": "I1gj1B6xSNJe"
      }
    },
    {
      "cell_type": "markdown",
      "source": [
        "If $X$ is a $n$ by $n$ matrix, $n>2$\n",
        "\n",
        "$\n",
        "det(X) = x_{11} (-1)^{1+1} M_{11}+x_{12} (-1)^{1+2} M_{12}+\\cdots +  x_{1n} (-1)^{1+n} M_{1n}\n",
        "$\n",
        "\n",
        "where $M_{ij}$ is called the minor element of $x_{ij}$ and is defined recursively as the determinant of the matrix excluding all elements from row $i$ or from column $j$. "
      ],
      "metadata": {
        "id": "3RDnNXJXSNJe"
      }
    },
    {
      "cell_type": "markdown",
      "source": [
        "Compare the result of your function with Python's\n",
        "`np.linalg.det()` function"
      ],
      "metadata": {
        "id": "yZzrDu63SNJg"
      }
    },
    {
      "cell_type": "code",
      "source": [
        "import numpy as np\n",
        "\n",
        "def det(X):\n",
        "\n",
        "  #base case\n",
        "  if X.shape[0]==2 and X.shape[1]==2:\n",
        "    return X[0][0]*X[1][1]-X[0][1]*X[1][0]\n",
        "\n",
        "  else:\n",
        "    determinant = 0.0\n",
        "    for i in range(X.shape[1]):   #loop on the columns\n",
        "      M = np.delete(X, 0, axis = 0)\n",
        "      M = np.delete(M, i, axis = 1)\n",
        "      determinant += ((-1)**(i))*X[0][i]*det(M)\n",
        "      \n",
        "    return determinant\n",
        "  \n",
        "\n"
      ],
      "metadata": {
        "id": "3kFXGfV4ZxpB"
      },
      "execution_count": 14,
      "outputs": []
    },
    {
      "cell_type": "code",
      "execution_count": null,
      "source": [],
      "outputs": [
        {
          "output_type": "stream",
          "name": "stdout",
          "text": [
            "-0.10065812992776337 vs -0.10065812992776335\n"
          ]
        }
      ],
      "metadata": {
        "id": "NCSfzTihSNJg",
        "outputId": "e9471458-5de7-4262-a22d-5ae4eb19db8f"
      }
    }
  ],
  "metadata": {
    "orig_nbformat": 4,
    "language_info": {
      "name": "python",
      "version": "3.8.8",
      "mimetype": "text/x-python",
      "codemirror_mode": {
        "name": "ipython",
        "version": 3
      },
      "pygments_lexer": "ipython3",
      "nbconvert_exporter": "python",
      "file_extension": ".py"
    },
    "kernelspec": {
      "name": "python3",
      "display_name": "Python 3.8.8 64-bit ('base': conda)"
    },
    "interpreter": {
      "hash": "3bce3b5366bc5d3beb18138a90777eb607bfd7bcdc5b1b5786ac51c214c88ff2"
    },
    "colab": {
      "provenance": []
    }
  },
  "nbformat": 4,
  "nbformat_minor": 0
}